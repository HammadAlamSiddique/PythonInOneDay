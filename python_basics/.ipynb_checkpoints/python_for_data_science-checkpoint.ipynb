{
 "cells": [
  {
   "cell_type": "markdown",
   "id": "d963ba2f",
   "metadata": {},
   "source": [
    "# This is Python Tutorial\n",
    "This is our first python program. It is just started here."
   ]
  },
  {
   "cell_type": "code",
   "execution_count": 2,
   "id": "ebd3b62a",
   "metadata": {},
   "outputs": [
    {
     "name": "stdout",
     "output_type": "stream",
     "text": [
      "Hello World\n"
     ]
    }
   ],
   "source": [
    "print(\"Hello World\")"
   ]
  },
  {
   "cell_type": "markdown",
   "id": "2d57960b",
   "metadata": {},
   "source": [
    "$a=b+c$"
   ]
  },
  {
   "cell_type": "markdown",
   "id": "715b8945",
   "metadata": {},
   "source": [
    "## Variables (int, float, str, bool, complex)"
   ]
  },
  {
   "cell_type": "markdown",
   "id": "5b986fa8",
   "metadata": {},
   "source": [
    "### int and float"
   ]
  },
  {
   "cell_type": "code",
   "execution_count": 4,
   "id": "73e27b57",
   "metadata": {},
   "outputs": [
    {
     "data": {
      "text/plain": [
       "3"
      ]
     },
     "execution_count": 4,
     "metadata": {},
     "output_type": "execute_result"
    }
   ],
   "source": [
    "x = 3\n",
    "x"
   ]
  },
  {
   "cell_type": "code",
   "execution_count": 5,
   "id": "b4110592",
   "metadata": {},
   "outputs": [
    {
     "name": "stdout",
     "output_type": "stream",
     "text": [
      "Variable   Type    Data/Info\n",
      "----------------------------\n",
      "x          int     3\n"
     ]
    }
   ],
   "source": [
    "%whos"
   ]
  },
  {
   "cell_type": "code",
   "execution_count": 6,
   "id": "039f4044",
   "metadata": {},
   "outputs": [
    {
     "data": {
      "text/plain": [
       "int"
      ]
     },
     "execution_count": 6,
     "metadata": {},
     "output_type": "execute_result"
    }
   ],
   "source": [
    "type(x)"
   ]
  },
  {
   "cell_type": "code",
   "execution_count": 7,
   "id": "c1cd6441",
   "metadata": {},
   "outputs": [],
   "source": [
    "x = 5.7"
   ]
  },
  {
   "cell_type": "code",
   "execution_count": 8,
   "id": "7e089a7d",
   "metadata": {},
   "outputs": [
    {
     "name": "stdout",
     "output_type": "stream",
     "text": [
      "Variable   Type     Data/Info\n",
      "-----------------------------\n",
      "x          float    5.7\n"
     ]
    }
   ],
   "source": [
    "%whos"
   ]
  },
  {
   "cell_type": "code",
   "execution_count": 9,
   "id": "9c7a8535",
   "metadata": {},
   "outputs": [
    {
     "data": {
      "text/plain": [
       "float"
      ]
     },
     "execution_count": 9,
     "metadata": {},
     "output_type": "execute_result"
    }
   ],
   "source": [
    "type(x)"
   ]
  },
  {
   "cell_type": "code",
   "execution_count": 10,
   "id": "e247c569",
   "metadata": {},
   "outputs": [],
   "source": [
    "abcd = 556.32"
   ]
  },
  {
   "cell_type": "code",
   "execution_count": 11,
   "id": "036e17f2",
   "metadata": {},
   "outputs": [
    {
     "name": "stdout",
     "output_type": "stream",
     "text": [
      "Variable   Type     Data/Info\n",
      "-----------------------------\n",
      "abcd       float    556.32\n",
      "x          float    5.7\n"
     ]
    }
   ],
   "source": [
    "%whos"
   ]
  },
  {
   "cell_type": "code",
   "execution_count": 18,
   "id": "094445cc",
   "metadata": {},
   "outputs": [],
   "source": [
    "a, b, c, d, e = 2, 5.8, 0, 2.0, -2134"
   ]
  },
  {
   "cell_type": "code",
   "execution_count": 19,
   "id": "56879b7b",
   "metadata": {},
   "outputs": [
    {
     "name": "stdout",
     "output_type": "stream",
     "text": [
      "Variable   Type     Data/Info\n",
      "-----------------------------\n",
      "a          int      2\n",
      "abcd       float    556.32\n",
      "b          float    5.8\n",
      "c          int      0\n",
      "d          float    2.0\n",
      "e          int      -2134\n",
      "x          float    5.7\n"
     ]
    }
   ],
   "source": [
    "%whos"
   ]
  },
  {
   "cell_type": "code",
   "execution_count": 20,
   "id": "26fcd0de",
   "metadata": {},
   "outputs": [],
   "source": [
    "del abcd"
   ]
  },
  {
   "cell_type": "code",
   "execution_count": 21,
   "id": "023d8d19",
   "metadata": {},
   "outputs": [
    {
     "name": "stdout",
     "output_type": "stream",
     "text": [
      "Variable   Type     Data/Info\n",
      "-----------------------------\n",
      "a          int      2\n",
      "b          float    5.8\n",
      "c          int      0\n",
      "d          float    2.0\n",
      "e          int      -2134\n",
      "x          float    5.7\n"
     ]
    }
   ],
   "source": [
    "%whos"
   ]
  },
  {
   "cell_type": "code",
   "execution_count": 22,
   "id": "6c29bbae",
   "metadata": {},
   "outputs": [
    {
     "ename": "NameError",
     "evalue": "name 'abcd' is not defined",
     "output_type": "error",
     "traceback": [
      "\u001b[1;31m---------------------------------------------------------------------------\u001b[0m",
      "\u001b[1;31mNameError\u001b[0m                                 Traceback (most recent call last)",
      "\u001b[1;32mC:\\Users\\HAMMAD~1\\AppData\\Local\\Temp/ipykernel_5652/804720481.py\u001b[0m in \u001b[0;36m<module>\u001b[1;34m\u001b[0m\n\u001b[1;32m----> 1\u001b[1;33m \u001b[0mabcd\u001b[0m\u001b[1;33m\u001b[0m\u001b[1;33m\u001b[0m\u001b[0m\n\u001b[0m",
      "\u001b[1;31mNameError\u001b[0m: name 'abcd' is not defined"
     ]
    }
   ],
   "source": [
    "abcd"
   ]
  },
  {
   "cell_type": "markdown",
   "id": "ef5383ab",
   "metadata": {},
   "source": [
    "### complex"
   ]
  },
  {
   "cell_type": "code",
   "execution_count": 23,
   "id": "792a6ce0",
   "metadata": {},
   "outputs": [],
   "source": [
    "x = 2+4j"
   ]
  },
  {
   "cell_type": "code",
   "execution_count": 24,
   "id": "43b72af8",
   "metadata": {},
   "outputs": [
    {
     "data": {
      "text/plain": [
       "complex"
      ]
     },
     "execution_count": 24,
     "metadata": {},
     "output_type": "execute_result"
    }
   ],
   "source": [
    "type(x)"
   ]
  },
  {
   "cell_type": "markdown",
   "id": "ad16528b",
   "metadata": {},
   "source": [
    "### str"
   ]
  },
  {
   "cell_type": "code",
   "execution_count": 25,
   "id": "04b34fd5",
   "metadata": {},
   "outputs": [],
   "source": [
    "name = \"Hammad Alam\""
   ]
  },
  {
   "cell_type": "code",
   "execution_count": 26,
   "id": "b2fb0bf2",
   "metadata": {},
   "outputs": [
    {
     "data": {
      "text/plain": [
       "str"
      ]
     },
     "execution_count": 26,
     "metadata": {},
     "output_type": "execute_result"
    }
   ],
   "source": [
    "type(name)"
   ]
  },
  {
   "cell_type": "markdown",
   "id": "e2678ec0",
   "metadata": {},
   "source": [
    "---\n",
    "## Operators"
   ]
  },
  {
   "cell_type": "code",
   "execution_count": 27,
   "id": "0277bd54",
   "metadata": {},
   "outputs": [
    {
     "name": "stdout",
     "output_type": "stream",
     "text": [
      "Variable   Type       Data/Info\n",
      "-------------------------------\n",
      "a          int        2\n",
      "b          float      5.8\n",
      "c          int        0\n",
      "d          float      2.0\n",
      "e          int        -2134\n",
      "name       str        Hammad Alam\n",
      "x          complex    (2+4j)\n"
     ]
    }
   ],
   "source": [
    "%whos"
   ]
  },
  {
   "cell_type": "code",
   "execution_count": 28,
   "id": "7f51ea14",
   "metadata": {},
   "outputs": [],
   "source": [
    "sumOfaAndb = a+b"
   ]
  },
  {
   "cell_type": "code",
   "execution_count": 29,
   "id": "103d3e90",
   "metadata": {},
   "outputs": [
    {
     "name": "stdout",
     "output_type": "stream",
     "text": [
      "7.8\n"
     ]
    }
   ],
   "source": [
    "print(sumOfaAndb)"
   ]
  },
  {
   "cell_type": "code",
   "execution_count": 30,
   "id": "943366f5",
   "metadata": {},
   "outputs": [
    {
     "data": {
      "text/plain": [
       "float"
      ]
     },
     "execution_count": 30,
     "metadata": {},
     "output_type": "execute_result"
    }
   ],
   "source": [
    "type(sumOfaAndb)"
   ]
  },
  {
   "cell_type": "code",
   "execution_count": 31,
   "id": "dd0dcb2f",
   "metadata": {},
   "outputs": [
    {
     "data": {
      "text/plain": [
       "int"
      ]
     },
     "execution_count": 31,
     "metadata": {},
     "output_type": "execute_result"
    }
   ],
   "source": [
    "type(a+c)"
   ]
  },
  {
   "cell_type": "code",
   "execution_count": 32,
   "id": "524f4568",
   "metadata": {},
   "outputs": [
    {
     "data": {
      "text/plain": [
       "1.7777777777777777"
      ]
     },
     "execution_count": 32,
     "metadata": {},
     "output_type": "execute_result"
    }
   ],
   "source": [
    "v = ((a+c)**4)/9\n",
    "v"
   ]
  },
  {
   "cell_type": "code",
   "execution_count": 33,
   "id": "a17c384b",
   "metadata": {},
   "outputs": [
    {
     "data": {
      "text/plain": [
       "'HelloWorld'"
      ]
     },
     "execution_count": 33,
     "metadata": {},
     "output_type": "execute_result"
    }
   ],
   "source": [
    "s1 = \"Hello\"\n",
    "s2 = \"World\"\n",
    "s = s1+s2\n",
    "s"
   ]
  },
  {
   "cell_type": "code",
   "execution_count": 34,
   "id": "059170ce",
   "metadata": {},
   "outputs": [
    {
     "data": {
      "text/plain": [
       "3"
      ]
     },
     "execution_count": 34,
     "metadata": {},
     "output_type": "execute_result"
    }
   ],
   "source": [
    "10//3"
   ]
  },
  {
   "cell_type": "code",
   "execution_count": 35,
   "id": "de290726",
   "metadata": {},
   "outputs": [
    {
     "data": {
      "text/plain": [
       "3.3333333333333335"
      ]
     },
     "execution_count": 35,
     "metadata": {},
     "output_type": "execute_result"
    }
   ],
   "source": [
    "10/3"
   ]
  },
  {
   "cell_type": "code",
   "execution_count": 36,
   "id": "8bfb8bf4",
   "metadata": {},
   "outputs": [
    {
     "data": {
      "text/plain": [
       "3.3333333333333335"
      ]
     },
     "execution_count": 36,
     "metadata": {},
     "output_type": "execute_result"
    }
   ],
   "source": [
    "_"
   ]
  },
  {
   "cell_type": "markdown",
   "id": "80fb4ccd",
   "metadata": {},
   "source": [
    "## Bool"
   ]
  },
  {
   "cell_type": "code",
   "execution_count": 38,
   "id": "4f52c226",
   "metadata": {},
   "outputs": [],
   "source": [
    "a = True\n",
    "b = True\n",
    "c = False"
   ]
  },
  {
   "cell_type": "code",
   "execution_count": 39,
   "id": "68ac951f",
   "metadata": {},
   "outputs": [
    {
     "name": "stdout",
     "output_type": "stream",
     "text": [
      "Variable     Type       Data/Info\n",
      "---------------------------------\n",
      "a            bool       True\n",
      "b            bool       True\n",
      "c            bool       False\n",
      "d            float      2.0\n",
      "e            int        -2134\n",
      "name         str        Hammad Alam\n",
      "s            str        HelloWorld\n",
      "s1           str        Hello\n",
      "s2           str        World\n",
      "sumOfaAndb   float      7.8\n",
      "v            float      1.7777777777777777\n",
      "x            complex    (2+4j)\n"
     ]
    }
   ],
   "source": [
    "%whos"
   ]
  },
  {
   "cell_type": "code",
   "execution_count": 43,
   "id": "1b36e02a",
   "metadata": {},
   "outputs": [
    {
     "name": "stdout",
     "output_type": "stream",
     "text": [
      "True\n",
      "False\n",
      "False\n"
     ]
    }
   ],
   "source": [
    "print(a and b)\n",
    "print(a and c)\n",
    "print(c and a)"
   ]
  },
  {
   "cell_type": "code",
   "execution_count": 44,
   "id": "a76360cc",
   "metadata": {},
   "outputs": [
    {
     "name": "stdout",
     "output_type": "stream",
     "text": [
      "True\n",
      "True\n",
      "True\n"
     ]
    }
   ],
   "source": [
    "print(a or b)\n",
    "print(a or c)\n",
    "print(c or a)"
   ]
  },
  {
   "cell_type": "code",
   "execution_count": 46,
   "id": "8357d4dd",
   "metadata": {},
   "outputs": [
    {
     "data": {
      "text/plain": [
       "False"
      ]
     },
     "execution_count": 46,
     "metadata": {},
     "output_type": "execute_result"
    }
   ],
   "source": [
    "d = not((a and b) or (a or b))\n",
    "d"
   ]
  },
  {
   "cell_type": "markdown",
   "id": "5d934b93",
   "metadata": {},
   "source": [
    "#### Comparisons"
   ]
  },
  {
   "cell_type": "code",
   "execution_count": 48,
   "id": "0ab2ec7a",
   "metadata": {},
   "outputs": [
    {
     "name": "stdout",
     "output_type": "stream",
     "text": [
      "True\n",
      "False\n",
      "False\n",
      "False\n",
      "True\n",
      "True\n"
     ]
    }
   ],
   "source": [
    "print(4==4)\n",
    "print(4!=4)\n",
    "print(4>4)\n",
    "print(4<4)\n",
    "print(4>=4)\n",
    "print(4<=4)"
   ]
  },
  {
   "cell_type": "code",
   "execution_count": 49,
   "id": "6d24e208",
   "metadata": {},
   "outputs": [],
   "source": [
    "a = 12\n",
    "b = -3\n",
    "c = 0\n",
    "d = -1"
   ]
  },
  {
   "cell_type": "code",
   "execution_count": 50,
   "id": "8baaef48",
   "metadata": {},
   "outputs": [
    {
     "data": {
      "text/plain": [
       "True"
      ]
     },
     "execution_count": 50,
     "metadata": {},
     "output_type": "execute_result"
    }
   ],
   "source": [
    "(a>b) or (c<b) and (d>a)"
   ]
  },
  {
   "cell_type": "code",
   "execution_count": 54,
   "id": "163fc834",
   "metadata": {},
   "outputs": [
    {
     "data": {
      "text/plain": [
       "False"
      ]
     },
     "execution_count": 54,
     "metadata": {},
     "output_type": "execute_result"
    }
   ],
   "source": [
    "(d>c) or (d<b) and (d>b)"
   ]
  },
  {
   "cell_type": "code",
   "execution_count": 58,
   "id": "cb1fc8f3",
   "metadata": {},
   "outputs": [
    {
     "data": {
      "text/plain": [
       "True"
      ]
     },
     "execution_count": 58,
     "metadata": {},
     "output_type": "execute_result"
    }
   ],
   "source": [
    "(True and False) or (False or True)"
   ]
  },
  {
   "cell_type": "markdown",
   "id": "79fc32a1",
   "metadata": {},
   "source": [
    "so always use paranthesis so that python will understand in which order it should apply operators"
   ]
  },
  {
   "cell_type": "markdown",
   "id": "5bf6d397",
   "metadata": {},
   "source": [
    "## Some useful python functions"
   ]
  },
  {
   "cell_type": "code",
   "execution_count": 59,
   "id": "acfcdb34",
   "metadata": {},
   "outputs": [
    {
     "data": {
      "text/plain": [
       "5"
      ]
     },
     "execution_count": 59,
     "metadata": {},
     "output_type": "execute_result"
    }
   ],
   "source": [
    "# round\n",
    "round(4.556)"
   ]
  },
  {
   "cell_type": "code",
   "execution_count": 60,
   "id": "057d03d6",
   "metadata": {},
   "outputs": [
    {
     "data": {
      "text/plain": [
       "4"
      ]
     },
     "execution_count": 60,
     "metadata": {},
     "output_type": "execute_result"
    }
   ],
   "source": [
    "round(4.345)"
   ]
  },
  {
   "cell_type": "code",
   "execution_count": 61,
   "id": "1f7a0b96",
   "metadata": {},
   "outputs": [
    {
     "data": {
      "text/plain": [
       "4.56"
      ]
     },
     "execution_count": 61,
     "metadata": {},
     "output_type": "execute_result"
    }
   ],
   "source": [
    "round(4.556789,2)"
   ]
  },
  {
   "cell_type": "code",
   "execution_count": 63,
   "id": "6ba6cbf7",
   "metadata": {},
   "outputs": [
    {
     "data": {
      "text/plain": [
       "4.557"
      ]
     },
     "execution_count": 63,
     "metadata": {},
     "output_type": "execute_result"
    }
   ],
   "source": [
    "round(4.556789, 3)"
   ]
  },
  {
   "cell_type": "code",
   "execution_count": 64,
   "id": "e20cf43b",
   "metadata": {},
   "outputs": [
    {
     "data": {
      "text/plain": [
       "(5, 2)"
      ]
     },
     "execution_count": 64,
     "metadata": {},
     "output_type": "execute_result"
    }
   ],
   "source": [
    "# divmod\n",
    "divmod(27,5)"
   ]
  },
  {
   "cell_type": "code",
   "execution_count": 66,
   "id": "228e62e2",
   "metadata": {},
   "outputs": [
    {
     "data": {
      "text/plain": [
       "(3, 7)"
      ]
     },
     "execution_count": 66,
     "metadata": {},
     "output_type": "execute_result"
    }
   ],
   "source": [
    "g = divmod(34,9)\n",
    "g"
   ]
  },
  {
   "cell_type": "code",
   "execution_count": 67,
   "id": "2fdd400a",
   "metadata": {},
   "outputs": [
    {
     "data": {
      "text/plain": [
       "tuple"
      ]
     },
     "execution_count": 67,
     "metadata": {},
     "output_type": "execute_result"
    }
   ],
   "source": [
    "type(g)"
   ]
  },
  {
   "cell_type": "code",
   "execution_count": 68,
   "id": "cf70846c",
   "metadata": {},
   "outputs": [
    {
     "data": {
      "text/plain": [
       "3"
      ]
     },
     "execution_count": 68,
     "metadata": {},
     "output_type": "execute_result"
    }
   ],
   "source": [
    "g[0]"
   ]
  },
  {
   "cell_type": "code",
   "execution_count": 69,
   "id": "7f6544f5",
   "metadata": {},
   "outputs": [
    {
     "data": {
      "text/plain": [
       "3"
      ]
     },
     "execution_count": 69,
     "metadata": {},
     "output_type": "execute_result"
    }
   ],
   "source": [
    "# alternate way to get quotient\n",
    "34//9"
   ]
  },
  {
   "cell_type": "code",
   "execution_count": 72,
   "id": "25e28e77",
   "metadata": {},
   "outputs": [
    {
     "data": {
      "text/plain": [
       "7"
      ]
     },
     "execution_count": 72,
     "metadata": {},
     "output_type": "execute_result"
    }
   ],
   "source": [
    "# alternate way to get remainder\n",
    "34%9"
   ]
  },
  {
   "cell_type": "code",
   "execution_count": 76,
   "id": "ba9fb98a",
   "metadata": {},
   "outputs": [
    {
     "name": "stdout",
     "output_type": "stream",
     "text": [
      "True\n",
      "False\n",
      "True\n",
      "True\n"
     ]
    }
   ],
   "source": [
    "# isinstance\n",
    "print(isinstance(3, int))\n",
    "print(isinstance(2.0, int))\n",
    "print(isinstance(2.0, (int, float)))\n",
    "print(isinstance(2+4j, complex))"
   ]
  },
  {
   "cell_type": "code",
   "execution_count": 78,
   "id": "112df3be",
   "metadata": {},
   "outputs": [
    {
     "data": {
      "text/plain": [
       "32"
      ]
     },
     "execution_count": 78,
     "metadata": {},
     "output_type": "execute_result"
    }
   ],
   "source": [
    "# pow\n",
    "pow(2,5)    # same as 2**5"
   ]
  },
  {
   "cell_type": "code",
   "execution_count": 90,
   "id": "c4aa36dd",
   "metadata": {},
   "outputs": [
    {
     "data": {
      "text/plain": [
       "4"
      ]
     },
     "execution_count": 90,
     "metadata": {},
     "output_type": "execute_result"
    }
   ],
   "source": [
    "pow(4,3,5)   # if we divide by 5, then what will be the remainder?"
   ]
  },
  {
   "cell_type": "code",
   "execution_count": 82,
   "id": "ff7e40ea",
   "metadata": {},
   "outputs": [
    {
     "name": "stdout",
     "output_type": "stream",
     "text": [
      "What's your name bro ?Hammad\n",
      "Wow, your name is Hammad\n"
     ]
    }
   ],
   "source": [
    "# input\n",
    "a = input(\"What's your name bro ?\")\n",
    "print(\"Wow, your name is\", a)"
   ]
  },
  {
   "cell_type": "code",
   "execution_count": 83,
   "id": "137feec5",
   "metadata": {},
   "outputs": [
    {
     "name": "stdout",
     "output_type": "stream",
     "text": [
      "Enter a number: 32\n"
     ]
    }
   ],
   "source": [
    "b = input(\"Enter a number: \")"
   ]
  },
  {
   "cell_type": "code",
   "execution_count": 84,
   "id": "e2b387f1",
   "metadata": {},
   "outputs": [
    {
     "data": {
      "text/plain": [
       "str"
      ]
     },
     "execution_count": 84,
     "metadata": {},
     "output_type": "execute_result"
    }
   ],
   "source": [
    "type(b)"
   ]
  },
  {
   "cell_type": "code",
   "execution_count": 85,
   "id": "f66196e2",
   "metadata": {},
   "outputs": [],
   "source": [
    "# convert type\n",
    "b = int(b)"
   ]
  },
  {
   "cell_type": "code",
   "execution_count": 86,
   "id": "05bda964",
   "metadata": {},
   "outputs": [
    {
     "data": {
      "text/plain": [
       "int"
      ]
     },
     "execution_count": 86,
     "metadata": {},
     "output_type": "execute_result"
    }
   ],
   "source": [
    "type(b)"
   ]
  },
  {
   "cell_type": "code",
   "execution_count": 89,
   "id": "2d056d20",
   "metadata": {},
   "outputs": [
    {
     "name": "stdout",
     "output_type": "stream",
     "text": [
      "Enter a real number: abcd\n"
     ]
    },
    {
     "ename": "ValueError",
     "evalue": "could not convert string to float: 'abcd'",
     "output_type": "error",
     "traceback": [
      "\u001b[1;31m---------------------------------------------------------------------------\u001b[0m",
      "\u001b[1;31mValueError\u001b[0m                                Traceback (most recent call last)",
      "\u001b[1;32mC:\\Users\\HAMMAD~1\\AppData\\Local\\Temp/ipykernel_5652/245631268.py\u001b[0m in \u001b[0;36m<module>\u001b[1;34m\u001b[0m\n\u001b[0;32m      1\u001b[0m \u001b[1;31m# other way (may cause some issues)\u001b[0m\u001b[1;33m\u001b[0m\u001b[1;33m\u001b[0m\u001b[0m\n\u001b[1;32m----> 2\u001b[1;33m \u001b[0mc\u001b[0m \u001b[1;33m=\u001b[0m \u001b[0mfloat\u001b[0m\u001b[1;33m(\u001b[0m\u001b[0minput\u001b[0m\u001b[1;33m(\u001b[0m\u001b[1;34m\"Enter a real number: \"\u001b[0m\u001b[1;33m)\u001b[0m\u001b[1;33m)\u001b[0m\u001b[1;33m\u001b[0m\u001b[1;33m\u001b[0m\u001b[0m\n\u001b[0m",
      "\u001b[1;31mValueError\u001b[0m: could not convert string to float: 'abcd'"
     ]
    }
   ],
   "source": [
    "# other way (may cause some issues)\n",
    "c = float(input(\"Enter a real number: \"))"
   ]
  },
  {
   "cell_type": "code",
   "execution_count": null,
   "id": "6fea67ee",
   "metadata": {},
   "outputs": [],
   "source": []
  }
 ],
 "metadata": {
  "kernelspec": {
   "display_name": "Python 3 (ipykernel)",
   "language": "python",
   "name": "python3"
  },
  "language_info": {
   "codemirror_mode": {
    "name": "ipython",
    "version": 3
   },
   "file_extension": ".py",
   "mimetype": "text/x-python",
   "name": "python",
   "nbconvert_exporter": "python",
   "pygments_lexer": "ipython3",
   "version": "3.9.7"
  }
 },
 "nbformat": 4,
 "nbformat_minor": 5
}
