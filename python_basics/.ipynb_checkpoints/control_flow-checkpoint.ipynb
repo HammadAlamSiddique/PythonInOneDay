{
 "cells": [
  {
   "cell_type": "markdown",
   "id": "cc99a2a8",
   "metadata": {},
   "source": [
    "# Control Flow in Python"
   ]
  },
  {
   "cell_type": "markdown",
   "id": "5d49bfa0",
   "metadata": {},
   "source": [
    "## if"
   ]
  },
  {
   "cell_type": "code",
   "execution_count": 7,
   "id": "302f1933",
   "metadata": {},
   "outputs": [
    {
     "name": "stdout",
     "output_type": "stream",
     "text": [
      "2\n",
      "3\n",
      "I am outside the if condition\n"
     ]
    }
   ],
   "source": [
    "a = int(input())\n",
    "b = int(input())\n",
    "if a > b:\n",
    "    print(a)\n",
    "    print(\"I am still inside the if condition\")\n",
    "print(\"I am outside the if condition\")\n"
   ]
  },
  {
   "cell_type": "code",
   "execution_count": 6,
   "id": "31292d12",
   "metadata": {},
   "outputs": [
    {
     "name": "stdout",
     "output_type": "stream",
     "text": [
      "3\n",
      "1\n",
      "3\n"
     ]
    }
   ],
   "source": [
    "a = int(input())\n",
    "b = int(input())\n",
    "if a > b:\n",
    "    print(a)\n",
    "if b > a:\n",
    "    print(b)"
   ]
  },
  {
   "cell_type": "markdown",
   "id": "8c5f651b",
   "metadata": {},
   "source": [
    "## if-else"
   ]
  },
  {
   "cell_type": "code",
   "execution_count": 10,
   "id": "98fcdd7a",
   "metadata": {},
   "outputs": [
    {
     "name": "stdout",
     "output_type": "stream",
     "text": [
      "2\n",
      "2\n",
      "2\n",
      "else part\n"
     ]
    }
   ],
   "source": [
    "a = int(input())\n",
    "b = int(input())\n",
    "if a > b:\n",
    "    print(a)\n",
    "    print(\"if part\")\n",
    "else:\n",
    "    print(b)\n",
    "    print(\"else part\")"
   ]
  },
  {
   "cell_type": "markdown",
   "id": "50ed2401",
   "metadata": {},
   "source": [
    "## if-elif-else"
   ]
  },
  {
   "cell_type": "code",
   "execution_count": 12,
   "id": "e7b95d07",
   "metadata": {},
   "outputs": [
    {
     "name": "stdout",
     "output_type": "stream",
     "text": [
      "B\n",
      "Not in if condition\n"
     ]
    }
   ],
   "source": [
    "a = 1\n",
    "b = 5\n",
    "if a == b:\n",
    "    print(\"Equal\")\n",
    "elif a > b:\n",
    "    print(\"A\")\n",
    "else:\n",
    "    print(\"B\")\n",
    "print(\"Not in if condition\")"
   ]
  },
  {
   "cell_type": "code",
   "execution_count": 14,
   "id": "87bb2d6c",
   "metadata": {},
   "outputs": [
    {
     "name": "stdout",
     "output_type": "stream",
     "text": [
      "A\n"
     ]
    }
   ],
   "source": [
    "# alternate approach (confusing)\n",
    "a = 3\n",
    "b = 1\n",
    "print(\"Equal\") if a==b else print(\"A\") if a>b else print(\"B\")"
   ]
  },
  {
   "cell_type": "code",
   "execution_count": 27,
   "id": "4db47ff8",
   "metadata": {},
   "outputs": [
    {
     "name": "stdout",
     "output_type": "stream",
     "text": [
      "Enter your Marks: 49\n",
      "Fail\n"
     ]
    }
   ],
   "source": [
    "a = float(input(\"Enter your Marks: \"))\n",
    "if (a >= 85):\n",
    "    print(\"A+ Grade\")\n",
    "elif (a < 85) and (a >= 75):\n",
    "    print(\"A Grade\")\n",
    "elif (a < 75) and (a >= 70):\n",
    "    print(\"A- Grade\")\n",
    "elif (a < 70) and (a >= 60):\n",
    "    print(\"B Grade\")\n",
    "elif (a < 60) and (a >= 50):\n",
    "    print(\"C Grade\")\n",
    "else:\n",
    "    print(\"Fail\")"
   ]
  },
  {
   "cell_type": "code",
   "execution_count": 32,
   "id": "47a9ed1d",
   "metadata": {},
   "outputs": [
    {
     "name": "stdout",
     "output_type": "stream",
     "text": [
      "a is lesser\n"
     ]
    }
   ],
   "source": [
    "# implementing else part without else  (just for fun)\n",
    "a = 9\n",
    "if (a>10):\n",
    "    print(\"a is greater\")\n",
    "elif not(a>10):\n",
    "    print(\"a is lesser\")"
   ]
  },
  {
   "cell_type": "markdown",
   "id": "828ebaae",
   "metadata": {},
   "source": [
    "## nested if"
   ]
  },
  {
   "cell_type": "code",
   "execution_count": 36,
   "id": "b0aa0dde",
   "metadata": {},
   "outputs": [
    {
     "name": "stdout",
     "output_type": "stream",
     "text": [
      "Enter a number: 51\n",
      "Your number is greater than 10\n",
      "And also greater than 50\n"
     ]
    }
   ],
   "source": [
    "a = int(input(\"Enter a number: \"))\n",
    "if a>10:\n",
    "    print(\"Your number is greater than 10\")\n",
    "    if a>50:\n",
    "        print(\"And also greater than 50\")\n",
    "    else:\n",
    "        print(\"But not greater than 50\")\n",
    "else:\n",
    "    print(\"Your number is less than 10\")"
   ]
  },
  {
   "cell_type": "code",
   "execution_count": 17,
   "id": "a7a59cd5",
   "metadata": {},
   "outputs": [
    {
     "name": "stdout",
     "output_type": "stream",
     "text": [
      "Enter a real number: -7.7\n",
      "-7\n",
      "Odd\n"
     ]
    }
   ],
   "source": [
    "'''\n",
    "User will enter a floating point number let say 238.973. Your task is \n",
    "to find out the integer portion before the decimal (in this case 238)\n",
    "and then check if that integer portion is even number or not?\n",
    "'''\n",
    "x = float(input(\"Enter a real number: \"))\n",
    "y = round(x)\n",
    "if x>0:\n",
    "    if y>x:\n",
    "        intPortion = y-1\n",
    "    else:\n",
    "        intPortion = y\n",
    "else:\n",
    "    if y<x:\n",
    "        intPortion = y+1\n",
    "    else:\n",
    "        intPortion = y\n",
    "print(intPortion)\n",
    "\n",
    "if intPortion%2 ==0:\n",
    "    print(\"Even\")\n",
    "else:\n",
    "    print(\"Odd\")\n",
    "\n"
   ]
  },
  {
   "cell_type": "markdown",
   "id": "d3644a99",
   "metadata": {},
   "source": [
    "---\n",
    "## Loops"
   ]
  },
  {
   "cell_type": "markdown",
   "id": "856f1162",
   "metadata": {},
   "source": [
    "### while loop"
   ]
  },
  {
   "cell_type": "code",
   "execution_count": 21,
   "id": "46ae12a4",
   "metadata": {},
   "outputs": [
    {
     "name": "stdout",
     "output_type": "stream",
     "text": [
      "Max iterations 10\n",
      "1\n",
      "2\n",
      "3\n",
      "4\n",
      "5\n",
      "6\n",
      "7\n",
      "8\n",
      "9\n",
      "done\n"
     ]
    }
   ],
   "source": [
    "n = int(input(\"Max iterations \"))\n",
    "i = 1\n",
    "while (i<n):\n",
    "    print(i)\n",
    "    i = i+1  # or i+=1\n",
    "print(\"done\")"
   ]
  },
  {
   "cell_type": "code",
   "execution_count": 29,
   "id": "2b1c07d8",
   "metadata": {},
   "outputs": [
    {
     "name": "stdout",
     "output_type": "stream",
     "text": [
      "Max iterations: 10\n",
      "2\n",
      "4\n",
      "6\n",
      "8\n",
      "done\n"
     ]
    }
   ],
   "source": [
    "# print i only if its integer\n",
    "n = int(input(\"Max iterations: \"))\n",
    "i = 1\n",
    "while (i<n):\n",
    "    if (i%2 == 0):\n",
    "        print(i)\n",
    "    else:\n",
    "        pass\n",
    "    i+=1\n",
    "print(\"done\")"
   ]
  },
  {
   "cell_type": "markdown",
   "id": "db7eb86d",
   "metadata": {},
   "source": [
    "## break and continue"
   ]
  },
  {
   "cell_type": "code",
   "execution_count": 2,
   "id": "7c93ff8a",
   "metadata": {},
   "outputs": [
    {
     "name": "stdout",
     "output_type": "stream",
     "text": [
      "inside else\n",
      "inside else\n",
      "inside else\n",
      "inside else\n",
      "inside else\n",
      "inside else\n",
      "inside else\n",
      "inside else\n",
      "inside if\n",
      "done\n"
     ]
    }
   ],
   "source": [
    "n = 10\n",
    "i = 1\n",
    "while (i<n):\n",
    "    if (i%9 == 0):\n",
    "        print(\"inside if\")\n",
    "        break\n",
    "    else:\n",
    "        i=i+1\n",
    "        print(\"inside else\")\n",
    "print(\"done\")"
   ]
  },
  {
   "cell_type": "code",
   "execution_count": null,
   "id": "5a147402",
   "metadata": {},
   "outputs": [],
   "source": [
    "i = 1\n",
    "while True:\n",
    "    if (i%9 != 0):\n",
    "        print(\"inside if\")\n",
    "        i+=1\n",
    "        continue\n",
    "    print(\"something\")\n",
    "    print(\"something else\")\n",
    "    break"
   ]
  },
  {
   "cell_type": "markdown",
   "id": "4bc57fbb",
   "metadata": {},
   "source": [
    "## for loop"
   ]
  },
  {
   "cell_type": "code",
   "execution_count": null,
   "id": "1b309bde",
   "metadata": {},
   "outputs": [],
   "source": []
  },
  {
   "cell_type": "code",
   "execution_count": null,
   "id": "962e5880",
   "metadata": {},
   "outputs": [],
   "source": []
  },
  {
   "cell_type": "code",
   "execution_count": null,
   "id": "2a6d6189",
   "metadata": {},
   "outputs": [],
   "source": []
  },
  {
   "cell_type": "code",
   "execution_count": null,
   "id": "8d20365a",
   "metadata": {},
   "outputs": [],
   "source": []
  },
  {
   "cell_type": "code",
   "execution_count": null,
   "id": "c21e4d89",
   "metadata": {},
   "outputs": [],
   "source": []
  },
  {
   "cell_type": "code",
   "execution_count": null,
   "id": "886d64b8",
   "metadata": {},
   "outputs": [],
   "source": []
  },
  {
   "cell_type": "code",
   "execution_count": null,
   "id": "c031c7b4",
   "metadata": {},
   "outputs": [],
   "source": []
  },
  {
   "cell_type": "code",
   "execution_count": null,
   "id": "104a8f5c",
   "metadata": {},
   "outputs": [],
   "source": []
  },
  {
   "cell_type": "code",
   "execution_count": null,
   "id": "9b461a7a",
   "metadata": {},
   "outputs": [],
   "source": []
  },
  {
   "cell_type": "code",
   "execution_count": null,
   "id": "4388aca4",
   "metadata": {},
   "outputs": [],
   "source": []
  },
  {
   "cell_type": "code",
   "execution_count": null,
   "id": "44b4f42d",
   "metadata": {},
   "outputs": [],
   "source": []
  },
  {
   "cell_type": "code",
   "execution_count": null,
   "id": "d21ef023",
   "metadata": {},
   "outputs": [],
   "source": []
  },
  {
   "cell_type": "code",
   "execution_count": null,
   "id": "d681c8cf",
   "metadata": {},
   "outputs": [],
   "source": []
  },
  {
   "cell_type": "code",
   "execution_count": null,
   "id": "9c3ac794",
   "metadata": {},
   "outputs": [],
   "source": []
  },
  {
   "cell_type": "code",
   "execution_count": null,
   "id": "2c763d21",
   "metadata": {},
   "outputs": [],
   "source": []
  },
  {
   "cell_type": "code",
   "execution_count": null,
   "id": "e8b5d58b",
   "metadata": {},
   "outputs": [],
   "source": []
  }
 ],
 "metadata": {
  "kernelspec": {
   "display_name": "Python 3 (ipykernel)",
   "language": "python",
   "name": "python3"
  },
  "language_info": {
   "codemirror_mode": {
    "name": "ipython",
    "version": 3
   },
   "file_extension": ".py",
   "mimetype": "text/x-python",
   "name": "python",
   "nbconvert_exporter": "python",
   "pygments_lexer": "ipython3",
   "version": "3.9.7"
  }
 },
 "nbformat": 4,
 "nbformat_minor": 5
}
